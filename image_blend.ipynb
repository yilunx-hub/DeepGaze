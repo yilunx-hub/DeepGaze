{
 "cells": [
  {
   "cell_type": "markdown",
   "metadata": {},
   "source": [
    "# Blend the first pre SAGAT images\n",
    "30 frames or 1 sec before SAGAT."
   ]
  },
  {
   "cell_type": "code",
   "execution_count": 1,
   "metadata": {},
   "outputs": [],
   "source": [
    "from PIL import Image\n",
    "import os"
   ]
  },
  {
   "cell_type": "markdown",
   "metadata": {},
   "source": [
    "Blend 30 frames (1 sec) pre SAGAT:"
   ]
  },
  {
   "cell_type": "code",
   "execution_count": null,
   "metadata": {},
   "outputs": [],
   "source": [
    "scenario_folder_list = sorted(os.listdir(\"sagat_pre30frames\"))[1:]\n",
    "for folder in scenario_folder_list:\n",
    "    print(folder)\n",
    "    img_list = sorted(os.listdir(\"sagat_pre30frames/\"+folder))\n",
    "    # initialize with the first image\n",
    "    blended_img = Image.open(\"sagat_pre30frames/\"+folder+\"/\"+img_list[0]).convert(\"RGBA\")\n",
    "\n",
    "    for img_file in img_list:\n",
    "        img = Image.open(\"sagat_pre30frames/\"+folder+\"/\"+img_file).convert(\"RGBA\")\n",
    "        blended_img = Image.blend(img, blended_img, 0.5)\n",
    "    blended_img.convert(\"RGB\").save(\"blended_image/\"+folder+\".png\")\n"
   ]
  },
  {
   "cell_type": "markdown",
   "metadata": {},
   "source": [
    "Blend 60 frames (2 sec) pre SAGAT:"
   ]
  },
  {
   "cell_type": "code",
   "execution_count": null,
   "metadata": {},
   "outputs": [],
   "source": [
    "scenario_folder_list = sorted(os.listdir(\"sagat_pre60frames\"))[1:]\n",
    "for folder in scenario_folder_list:\n",
    "    print(folder)\n",
    "    img_list = sorted(os.listdir(\"sagat_pre60frames/\"+folder))\n",
    "    # initialize with the first image\n",
    "    blended_img = Image.open(\"sagat_pre60frames/\"+folder+\"/\"+img_list[0]).convert(\"RGBA\")\n",
    "\n",
    "    for img_file in img_list:\n",
    "        img = Image.open(\"sagat_pre60frames/\"+folder+\"/\"+img_file).convert(\"RGBA\")\n",
    "        blended_img = Image.blend(img, blended_img, 0.5)\n",
    "    blended_img.convert(\"RGB\").save(\"blended_image_pre60frames/\"+folder+\".png\")"
   ]
  },
  {
   "cell_type": "markdown",
   "metadata": {},
   "source": [
    "Fix the bug that scenario 10 was missing in the output folder:"
   ]
  },
  {
   "cell_type": "code",
   "execution_count": 35,
   "metadata": {},
   "outputs": [],
   "source": [
    "folder = sorted(os.listdir(\"sagat_pre60frames\"))[1]\n",
    "img_list = sorted(os.listdir(\"sagat_pre60frames/\"+folder))\n",
    "# initialize with the first image\n",
    "blended_img = Image.open(\"sagat_pre60frames/\"+folder+\"/\"+img_list[0]).convert(\"RGBA\")\n",
    "\n",
    "for img_file in img_list:\n",
    "    img = Image.open(\"sagat_pre60frames/\"+folder+\"/\"+img_file).convert(\"RGBA\")\n",
    "    blended_img = Image.blend(img, blended_img, 0.5)\n",
    "blended_img.convert(\"RGB\").save(\"blended_image_pre60frames/\"+folder+\".png\")"
   ]
  },
  {
   "cell_type": "markdown",
   "metadata": {},
   "source": [
    "Blend 90 frames (3 sec) pre SAGAT:"
   ]
  },
  {
   "cell_type": "markdown",
   "metadata": {},
   "source": [
    "First 30 frames in one folder and 60 in another."
   ]
  },
  {
   "cell_type": "code",
   "execution_count": null,
   "metadata": {},
   "outputs": [],
   "source": [
    "scenario_folder_list_90_61 = sorted(os.listdir(\"sagat_pre90frames\"))[1:]\n",
    "# scenario_folder_list_60_sagat = sorted(os.listdir(\"sagat_pre60frames\"))[1:]\n",
    "# folder names are the same, so we only need one folder list\n",
    "\n",
    "for folder in scenario_folder_list_90_61:\n",
    "    print(folder)\n",
    "    # blend the 90 to 61 frames pre SAGAT\n",
    "    img_list_90_61 = sorted(os.listdir(\"sagat_pre90frames/\"+folder))\n",
    "    # initialize with the first image\n",
    "    blended_img = Image.open(\"sagat_pre90frames/\"+folder+\"/\"+img_list_90_61[0]).convert(\"RGBA\")\n",
    "    for img_file in img_list_90_61:\n",
    "        img = Image.open(\"sagat_pre90frames/\"+folder+\"/\"+img_file).convert(\"RGBA\")\n",
    "        blended_img = Image.blend(img, blended_img, 0.5)\n",
    "    \n",
    "    # blend the 60 to SAGAT images\n",
    "    img_list_60_sagat = sorted(os.listdir(\"sagat_pre60frames/\"+folder))\n",
    "    for img_file in img_list_60_sagat:\n",
    "        img = Image.open(\"sagat_pre60frames/\"+folder+\"/\"+img_file).convert(\"RGBA\")\n",
    "        blended_img = Image.blend(img, blended_img, 0.5)\n",
    "    \n",
    "    blended_img.convert(\"RGB\").save(\"blended_image_pre90frames/\"+folder+\".png\")"
   ]
  },
  {
   "cell_type": "code",
   "execution_count": 40,
   "metadata": {},
   "outputs": [
    {
     "data": {
      "text/plain": [
       "['10_201801191303_76544_76919',\n",
       " '11_201710031247_87115_87359',\n",
       " '12_201702271438_99545_99837',\n",
       " '13_201703061456_30041_30378',\n",
       " '14_201704111041_80299_80603',\n",
       " '15_201801221423_118893_119260',\n",
       " '16_201709201319_42761_43463',\n",
       " '17_201801240941_118204_118552',\n",
       " '18_201802231637_1351_1807',\n",
       " '19_201709211444_14406_14800',\n",
       " '1_201709221037_97464_97785',\n",
       " '20_201704151140_19370_19590',\n",
       " '21_201801250936_202807_203909',\n",
       " '22_201709201605_50214_50554',\n",
       " '23_201801261529_51071_51399',\n",
       " '24_201802221407_57495_57837',\n",
       " '25_201703061606_31745_32026',\n",
       " '26_201802141456_84784_85293',\n",
       " '27_201710041351_39548_39864',\n",
       " '28_201709221037_23803_24252',\n",
       " '29_201709221313_49374_50317',\n",
       " '2_201801241254_25438_25720',\n",
       " '30_201709211547_47469_47767',\n",
       " '31_201704141420_27788_28085',\n",
       " '32_201704131537_44655_45003',\n",
       " '33_201704141420_26001_26361',\n",
       " '34_201704141420_3627_3944',\n",
       " '35_201704131123_8535_8835',\n",
       " '36_201709211317_79410_79690',\n",
       " '37_201704141145_16663_16996',\n",
       " '38_201704151035_3320_3946',\n",
       " '39_201802201000_237615_238499',\n",
       " '3_201801241254_22359_22702',\n",
       " '40_201704151140_24228_24471',\n",
       " '41_201802221601_98534_99084',\n",
       " '42_201801261426_56950_57155',\n",
       " '43_201703061429_7485_7787',\n",
       " '44_201703061456_21051_21319',\n",
       " '45_201702271632_28369_28744',\n",
       " '46_201702271017_48091_49823',\n",
       " '47_201802121306_52172_52476',\n",
       " '48_201706061140_124192_124702',\n",
       " '49_201710041351_50359_50723',\n",
       " '4_201801241254_49262_49654',\n",
       " '50_201802131430_95938_96262',\n",
       " '51_201704111540_23471_23742',\n",
       " '52_201801221423_124566_124850',\n",
       " '53_201704131047_5623_6290',\n",
       " '54_201802231149_18788_19684',\n",
       " '55_201704131123_80780_80998',\n",
       " '56_201802161024_149357_150444',\n",
       " '57_201802201241_28417_29021',\n",
       " '58_201802131430_96496_96793',\n",
       " '59_201802131138_82813_83175',\n",
       " '5_201709211444_13966_14420',\n",
       " '60_201704101118_58385_58806',\n",
       " '61_201802141629_51108_51457',\n",
       " '62_201802151329_47713_48023',\n",
       " '63_201702271136_21637_21922',\n",
       " '64_201801261426_15741_16067',\n",
       " '65_201801261231_72406_72749',\n",
       " '66_201802161024_102301_102583',\n",
       " '67_201704131123_8804_9213',\n",
       " '68_201704141243_82338_82980',\n",
       " '69_201802231505_53463_53887',\n",
       " '6_201704151035_38928_39176',\n",
       " '70_201704141033_14623_14853',\n",
       " '71_201702271136_17004_17322',\n",
       " '72_201702281017_88397_88736',\n",
       " '73_201702271136_79195_79542',\n",
       " '74_201802151108_17613_17914',\n",
       " '75_201704101354_65402_65687',\n",
       " '7_201801250936_146102_146313',\n",
       " '8_201704151347_57599_58631',\n",
       " '9_201801191303_204107_204432']"
      ]
     },
     "execution_count": 40,
     "metadata": {},
     "output_type": "execute_result"
    }
   ],
   "source": [
    "# scenario_folder_list_90_61 = sorted(os.listdir(\"sagat_pre90frames\"))[1:]\n",
    "# len(scenario_folder_list_90_61)\n",
    "scenario_folder_list_90_61"
   ]
  },
  {
   "cell_type": "code",
   "execution_count": null,
   "metadata": {},
   "outputs": [],
   "source": [
    "scenario_folder_list_60_sagat = sorted(os.listdir(\"sagat_pre60frames\"))[1:]\n",
    "# len(scenario_folder_list_60_sagat)"
   ]
  },
  {
   "cell_type": "markdown",
   "metadata": {},
   "source": []
  }
 ],
 "metadata": {
  "kernelspec": {
   "display_name": "mydeepgaze_env",
   "language": "python",
   "name": "python3"
  },
  "language_info": {
   "codemirror_mode": {
    "name": "ipython",
    "version": 3
   },
   "file_extension": ".py",
   "mimetype": "text/x-python",
   "name": "python",
   "nbconvert_exporter": "python",
   "pygments_lexer": "ipython3",
   "version": "3.9.18"
  }
 },
 "nbformat": 4,
 "nbformat_minor": 2
}
